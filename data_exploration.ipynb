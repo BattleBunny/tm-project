{
 "cells": [
  {
   "cell_type": "code",
   "execution_count": 8,
   "metadata": {},
   "outputs": [],
   "source": [
    "import numpy as np\n",
    "import pandas as pd\n",
    "import matplotlib.pyplot as plt\n",
    "import seaborn as sns\n",
    "import os\n",
    "from tabulate import tabulate\n",
    "from typing import Literal, List\n",
    "import re\n",
    "sns.set_style(\"whitegrid\")"
   ]
  },
  {
   "cell_type": "markdown",
   "metadata": {},
   "source": [
    "first load data, get all years together\n",
    "what is devtest???\n",
    "\n",
    "ik doe wat ze in paper hebben gedaan (alle data van vorige jaren = train,+ train van dit jaar), maar toch is er evenveel test als train ongeveer, wat ik raar vind.) het lijkt alsof er minder train dan test data is ook (bijv 2015) -> dat is toch raar hahah"
   ]
  },
  {
   "cell_type": "code",
   "execution_count": 17,
   "metadata": {},
   "outputs": [],
   "source": [
    "def get_filenames(dataset: Literal[\"train\",\"test\"], path=\"data/downloaded/\") -> List[str]:\n",
    "    if dataset == \"train\":\n",
    "        r = '[a-z]+-(\\d{4})'\n",
    "        onlyfiles = [f for f in os.listdir(\"data/downloaded\") if os.path.isfile(os.path.join(\"data/downloaded\", f)) and os.path.join(\"data/downloaded\", f)[-5] == \"A\"]\n",
    "        return [f for f in onlyfiles if f not in [\"twitter-2016dev-A.tsv\", \"twitter-2016devtest-A.tsv\", \"twitter-2016train-A.tsv\"]]\n",
    "    return [\"twitter-2016dev-A.tsv\", \"twitter-2016devtest-A.tsv\", \"twitter-2016train-A.tsv\"]"
   ]
  },
  {
   "cell_type": "code",
   "execution_count": 18,
   "metadata": {},
   "outputs": [],
   "source": [
    "def concatenate_data(dataset: Literal[\"train\",\"test\"], path=\"data/downloaded/\") -> None:\n",
    "    # write all data from previous years to new file, as in paper\n",
    "    filenames = get_filenames(dataset, path=path)\n",
    "\n",
    "    with open(f'{path}twitter-{dataset}.tsv', 'w') as outfile:\n",
    "        for fname in filenames:\n",
    "            with open(path+fname) as infile:\n",
    "                for line in infile:\n",
    "                    outfile.write(line)"
   ]
  },
  {
   "cell_type": "code",
   "execution_count": 19,
   "metadata": {},
   "outputs": [],
   "source": [
    "concatenate_data(\"train\")\n",
    "concatenate_data(\"test\")"
   ]
  },
  {
   "cell_type": "markdown",
   "metadata": {},
   "source": [
    "Load into dataframes"
   ]
  },
  {
   "cell_type": "code",
   "execution_count": 20,
   "metadata": {},
   "outputs": [
    {
     "name": "stdout",
     "output_type": "stream",
     "text": [
      "train: 80%, test: 20%\n",
      "train: 40297, test: 9834\n"
     ]
    }
   ],
   "source": [
    "train = pd.read_csv(\"data/downloaded/twitter-train.tsv\", sep='\\t', usecols=[1,2], names=[\"label\", \"text\"])\n",
    "test = pd.read_csv(\"data/downloaded/twitter-test.tsv\", sep='\\t', usecols=[1,2], names=[\"label\", \"text\"])\n",
    "# dev = pd.read_csv(\"data/downloaded/twitter-2016dev-A.tsv\", sep='\\t', usecols=[1,2], names=[\"label\", \"text\"])\n",
    "\n",
    "print(f\"train: {round(train.shape[0]/(train.shape[0]+test.shape[0])*100)}%, test: {round(test.shape[0]/(train.shape[0]+test.shape[0])*100)}%\")\n",
    "print(f\"train: {train.shape[0]}, test: {test.shape[0]}\")"
   ]
  },
  {
   "cell_type": "markdown",
   "metadata": {},
   "source": [
    "class imbalances"
   ]
  },
  {
   "cell_type": "code",
   "execution_count": 21,
   "metadata": {},
   "outputs": [
    {
     "data": {
      "text/html": [
       "<div>\n",
       "<style scoped>\n",
       "    .dataframe tbody tr th:only-of-type {\n",
       "        vertical-align: middle;\n",
       "    }\n",
       "\n",
       "    .dataframe tbody tr th {\n",
       "        vertical-align: top;\n",
       "    }\n",
       "\n",
       "    .dataframe thead th {\n",
       "        text-align: right;\n",
       "    }\n",
       "</style>\n",
       "<table border=\"1\" class=\"dataframe\">\n",
       "  <thead>\n",
       "    <tr style=\"text-align: right;\">\n",
       "      <th></th>\n",
       "      <th>train</th>\n",
       "      <th>test</th>\n",
       "    </tr>\n",
       "    <tr>\n",
       "      <th>label</th>\n",
       "      <th></th>\n",
       "      <th></th>\n",
       "    </tr>\n",
       "  </thead>\n",
       "  <tbody>\n",
       "    <tr>\n",
       "      <th>negative</th>\n",
       "      <td>6243</td>\n",
       "      <td>1566</td>\n",
       "    </tr>\n",
       "    <tr>\n",
       "      <th>neutral</th>\n",
       "      <td>19096</td>\n",
       "      <td>3428</td>\n",
       "    </tr>\n",
       "    <tr>\n",
       "      <th>positive</th>\n",
       "      <td>14958</td>\n",
       "      <td>4840</td>\n",
       "    </tr>\n",
       "  </tbody>\n",
       "</table>\n",
       "</div>"
      ],
      "text/plain": [
       "          train  test\n",
       "label                \n",
       "negative   6243  1566\n",
       "neutral   19096  3428\n",
       "positive  14958  4840"
      ]
     },
     "execution_count": 21,
     "metadata": {},
     "output_type": "execute_result"
    }
   ],
   "source": [
    "train_class_counts = train.groupby('label').count().rename({\"text\":\"train\"}, axis=1)\n",
    "test_class_counts = test.groupby('label').count().rename({\"text\":\"test\"}, axis=1)\n",
    "# dev_class_counts = dev.groupby('label').count().rename({\"text\":\"dev\"}, axis=1)\n",
    "\n",
    "\n",
    "pd.concat([train_class_counts, test_class_counts], axis=1)"
   ]
  },
  {
   "cell_type": "markdown",
   "metadata": {},
   "source": [
    "preprocessing:\n",
    "remove links? \n",
    "remove @'s ?\n",
    "punctuation etc? \n"
   ]
  },
  {
   "cell_type": "code",
   "execution_count": null,
   "metadata": {},
   "outputs": [],
   "source": []
  }
 ],
 "metadata": {
  "interpreter": {
   "hash": "b7b48cf7c021d35b2fd1684e6f7d2f969b0897b100551e75462f6bc010a51b9a"
  },
  "kernelspec": {
   "display_name": "Python 3.8.12 64-bit ('tmprojectenv': conda)",
   "language": "python",
   "name": "python3"
  },
  "language_info": {
   "codemirror_mode": {
    "name": "ipython",
    "version": 3
   },
   "file_extension": ".py",
   "mimetype": "text/x-python",
   "name": "python",
   "nbconvert_exporter": "python",
   "pygments_lexer": "ipython3",
   "version": "3.8.12"
  },
  "orig_nbformat": 4
 },
 "nbformat": 4,
 "nbformat_minor": 2
}
