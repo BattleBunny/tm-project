{
 "cells": [
  {
   "cell_type": "code",
   "execution_count": 6,
   "metadata": {},
   "outputs": [],
   "source": [
    "import numpy as np\n",
    "import pandas as pd\n",
    "import matplotlib.pyplot as plt\n",
    "import seaborn as sns\n",
    "import os\n",
    "from tabulate import tabulate\n",
    "from typing import Literal\n",
    "import re\n",
    "sns.set_style(\"whitegrid\")"
   ]
  },
  {
   "cell_type": "markdown",
   "metadata": {},
   "source": [
    "first load data, get all years together\n",
    "what is devtest???\n",
    "\n",
    "ik doe wat ze in paper hebben gedaan (alle data van vorige jaren = train,+ train van dit jaar), maar toch is er evenveel test als train ongeveer, wat ik raar vind.) het lijkt alsof er minder train dan test data is ook (bijv 2015) -> dat is toch raar hahah"
   ]
  },
  {
   "cell_type": "code",
   "execution_count": 114,
   "metadata": {},
   "outputs": [],
   "source": [
    "def concatenate_train_data(path=\"data/downloaded/\") -> None:\n",
    "    # write all data from previous years to new file, as in paper\n",
    "    r = '[a-z]+-(\\d{4})'\n",
    "    onlyfiles = [f for f in os.listdir(\"data/downloaded\") if os.path.isfile(os.path.join(\"data/downloaded\", f)) and os.path.join(\"data/downloaded\", f)[-5] == \"A\"]\n",
    "    filenames = [f for f in onlyfiles if re.match(r, f).group(1) != \"2016\"]\n",
    "    filenames.append(\"twitter-2016train-A.tsv\")\n",
    "\n",
    "    print(filenames)\n",
    "\n",
    "    # with open(f'{path}twitter-train.tsv', 'w') as outfile:\n",
    "    #     for fname in filenames:\n",
    "    #         with open(path+fname) as infile:\n",
    "    #             for line in infile:\n",
    "    #                 outfile.write(line)"
   ]
  },
  {
   "cell_type": "code",
   "execution_count": 115,
   "metadata": {},
   "outputs": [
    {
     "name": "stdout",
     "output_type": "stream",
     "text": [
      "['twitter-2013train-A.tsv', 'twitter-2015test-A.tsv', 'twitter-2015train-A.tsv', 'twitter-2013dev-A.tsv', 'twitter-2013test-A.tsv', 'twitter-2014sarcasm-A.tsv', 'twitter-2014test-A.tsv', 'twitter-2016train-A.tsv']\n"
     ]
    }
   ],
   "source": [
    "concatenate_train_data()"
   ]
  },
  {
   "cell_type": "markdown",
   "metadata": {},
   "source": [
    "Load into dataframes"
   ]
  },
  {
   "cell_type": "code",
   "execution_count": 116,
   "metadata": {},
   "outputs": [
    {
     "name": "stdout",
     "output_type": "stream",
     "text": [
      "(25534, 2) (20632, 2) (1966, 2)\n"
     ]
    }
   ],
   "source": [
    "train = pd.read_csv(\"data/downloaded/twitter-train.tsv\", sep='\\t', usecols=[1,2], names=[\"label\", \"text\"])\n",
    "test = pd.read_csv(\"data/downloaded/twitter-2016test-A.tsv\", sep='\\t', usecols=[1,2], names=[\"label\", \"text\"])\n",
    "dev = pd.read_csv(\"data/downloaded/twitter-2016dev-A.tsv\", sep='\\t', usecols=[1,2], names=[\"label\", \"text\"])\n",
    "\n",
    "print(train.shape, test.shape, dev.shape)"
   ]
  },
  {
   "cell_type": "markdown",
   "metadata": {},
   "source": [
    "class imbalances"
   ]
  },
  {
   "cell_type": "code",
   "execution_count": 117,
   "metadata": {},
   "outputs": [
    {
     "data": {
      "text/html": [
       "<div>\n",
       "<style scoped>\n",
       "    .dataframe tbody tr th:only-of-type {\n",
       "        vertical-align: middle;\n",
       "    }\n",
       "\n",
       "    .dataframe tbody tr th {\n",
       "        vertical-align: top;\n",
       "    }\n",
       "\n",
       "    .dataframe thead th {\n",
       "        text-align: right;\n",
       "    }\n",
       "</style>\n",
       "<table border=\"1\" class=\"dataframe\">\n",
       "  <thead>\n",
       "    <tr style=\"text-align: right;\">\n",
       "      <th></th>\n",
       "      <th>train</th>\n",
       "      <th>test</th>\n",
       "      <th>dev</th>\n",
       "    </tr>\n",
       "    <tr>\n",
       "      <th>label</th>\n",
       "      <th></th>\n",
       "      <th></th>\n",
       "      <th></th>\n",
       "    </tr>\n",
       "  </thead>\n",
       "  <tbody>\n",
       "    <tr>\n",
       "      <th>negative</th>\n",
       "      <td>3862</td>\n",
       "      <td>3231</td>\n",
       "      <td>391</td>\n",
       "    </tr>\n",
       "    <tr>\n",
       "      <th>neutral</th>\n",
       "      <td>10755</td>\n",
       "      <td>10342</td>\n",
       "      <td>746</td>\n",
       "    </tr>\n",
       "    <tr>\n",
       "      <th>positive</th>\n",
       "      <td>10917</td>\n",
       "      <td>7059</td>\n",
       "      <td>829</td>\n",
       "    </tr>\n",
       "  </tbody>\n",
       "</table>\n",
       "</div>"
      ],
      "text/plain": [
       "          train   test  dev\n",
       "label                      \n",
       "negative   3862   3231  391\n",
       "neutral   10755  10342  746\n",
       "positive  10917   7059  829"
      ]
     },
     "execution_count": 117,
     "metadata": {},
     "output_type": "execute_result"
    }
   ],
   "source": [
    "train_class_counts = train.groupby('label').count().rename({\"text\":\"train\"}, axis=1)\n",
    "test_class_counts = test.groupby('label').count().rename({\"text\":\"test\"}, axis=1)\n",
    "dev_class_counts = dev.groupby('label').count().rename({\"text\":\"dev\"}, axis=1)\n",
    "\n",
    "\n",
    "pd.concat([train_class_counts, test_class_counts, dev_class_counts], axis=1)"
   ]
  },
  {
   "cell_type": "markdown",
   "metadata": {},
   "source": [
    "preprocessing:\n",
    "remove links? \n",
    "remove @'s ?\n",
    "punctuation etc? \n"
   ]
  },
  {
   "cell_type": "code",
   "execution_count": null,
   "metadata": {},
   "outputs": [],
   "source": []
  }
 ],
 "metadata": {
  "interpreter": {
   "hash": "b7b48cf7c021d35b2fd1684e6f7d2f969b0897b100551e75462f6bc010a51b9a"
  },
  "kernelspec": {
   "display_name": "Python 3.8.12 64-bit ('tmprojectenv': conda)",
   "language": "python",
   "name": "python3"
  },
  "language_info": {
   "codemirror_mode": {
    "name": "ipython",
    "version": 3
   },
   "file_extension": ".py",
   "mimetype": "text/x-python",
   "name": "python",
   "nbconvert_exporter": "python",
   "pygments_lexer": "ipython3",
   "version": "3.8.12"
  },
  "orig_nbformat": 4
 },
 "nbformat": 4,
 "nbformat_minor": 2
}
