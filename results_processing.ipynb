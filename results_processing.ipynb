{
 "cells": [
  {
   "cell_type": "code",
   "execution_count": 3,
   "metadata": {},
   "outputs": [],
   "source": [
    "import pandas as pd\n",
    "import seaborn as sns\n",
    "import pickle\n",
    "import numpy as np\n",
    "\n",
    "sns.set_style(\"whitegrid\")"
   ]
  },
  {
   "cell_type": "code",
   "execution_count": null,
   "metadata": {},
   "outputs": [],
   "source": [
    "with open(\"data/bert_tokenized/bert_train_data.pkl\", \"rb\") as f:\n",
    "    train_dev = pickle.load(f)\n",
    "\n",
    "with open(\"data/bert_tokenized/bert_test_data.pkl\",\"rb\") as f:\n",
    "    "
   ]
  },
  {
   "cell_type": "code",
   "execution_count": 11,
   "metadata": {},
   "outputs": [],
   "source": [
    "lr= [1e-06, 1.0800000000000002e-05, 2.0600000000000003e-05,3.0400000000000004e-05, 4.02e-05,5e-05]\n",
    "hidden= [True, False]\n",
    "\n",
    "# dims =  lr x hidden x 3 runs x (train vs val)\n",
    "results = np.zeros((len(lr), len(hidden),3,2))\n"
   ]
  },
  {
   "cell_type": "code",
   "execution_count": 5,
   "metadata": {},
   "outputs": [],
   "source": [
    "from os import listdir\n",
    "from os.path import isfile, join\n",
    "resultsfiles = [f for f in listdir(\"results\") if isfile(join(\"results\", f))]"
   ]
  },
  {
   "cell_type": "code",
   "execution_count": 6,
   "metadata": {},
   "outputs": [
    {
     "data": {
      "text/plain": [
       "['4.02e-05_True.csv',\n",
       " '5e-05_True.csv',\n",
       " '1e-06_False.csv',\n",
       " '5e-05_False.csv',\n",
       " '2.0600000000000003e-05_True.csv',\n",
       " '3.0400000000000004e-05_True.csv',\n",
       " '1.0800000000000002e-05_False.csv',\n",
       " '3.0400000000000004e-05_False.csv',\n",
       " '4.02e-05_False.csv',\n",
       " '2.0600000000000003e-05_False.csv',\n",
       " '1.0800000000000002e-05_True.csv',\n",
       " '1e-06_True.csv']"
      ]
     },
     "execution_count": 6,
     "metadata": {},
     "output_type": "execute_result"
    }
   ],
   "source": [
    "resultsfiles"
   ]
  },
  {
   "cell_type": "code",
   "execution_count": 12,
   "metadata": {},
   "outputs": [],
   "source": [
    "for i, l in enumerate(lr):\n",
    "    for j, h in enumerate(hidden):\n",
    "        results[i,j,:,:] = np.genfromtxt(f\"results/{l}_{h}.csv\", delimiter=\",\")\n",
    "        "
   ]
  },
  {
   "cell_type": "code",
   "execution_count": 13,
   "metadata": {},
   "outputs": [],
   "source": [
    "with open(\"results/results.pkl\", \"wb\") as f:\n",
    "    pickle.dump(results,f)"
   ]
  },
  {
   "cell_type": "code",
   "execution_count": null,
   "metadata": {},
   "outputs": [],
   "source": []
  }
 ],
 "metadata": {
  "interpreter": {
   "hash": "089b248b42946436632c3eff5e58f4d2bcd548d575ff41fc5dfd36e1ae43e977"
  },
  "kernelspec": {
   "display_name": "Python 3.9.7 64-bit (conda)",
   "language": "python",
   "name": "python3"
  },
  "language_info": {
   "codemirror_mode": {
    "name": "ipython",
    "version": 3
   },
   "file_extension": ".py",
   "mimetype": "text/x-python",
   "name": "python",
   "nbconvert_exporter": "python",
   "pygments_lexer": "ipython3",
   "version": "3.9.7"
  },
  "orig_nbformat": 4
 },
 "nbformat": 4,
 "nbformat_minor": 2
}
