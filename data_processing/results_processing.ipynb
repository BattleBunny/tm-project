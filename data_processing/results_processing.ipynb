{
 "cells": [
  {
   "cell_type": "code",
   "execution_count": 1,
   "metadata": {},
   "outputs": [],
   "source": [
    "import pandas as pd\n",
    "import seaborn as sns\n",
    "import pickle\n",
    "import numpy as np\n",
    "\n",
    "sns.set_style(\"whitegrid\")"
   ]
  },
  {
   "cell_type": "code",
   "execution_count": 3,
   "metadata": {},
   "outputs": [],
   "source": [
    "with open(\"../data/bert_tokenized/bert_train_data.pkl\", \"rb\") as f:\n",
    "    train_dev = pickle.load(f)\n",
    "\n",
    "with open(\"../data/bert_tokenized/bert_test_data.pkl\",\"rb\") as f:\n",
    "    test = pickle.load(f)"
   ]
  },
  {
   "cell_type": "code",
   "execution_count": 2,
   "metadata": {},
   "outputs": [],
   "source": [
    "lr= [1e-06, 1.0800000000000002e-05, 2.0600000000000003e-05,3.0400000000000004e-05, 4.02e-05,5e-05]\n",
    "hidden= [True, False]\n",
    "\n",
    "# dims =  lr x hidden x 3 runs x (train vs val)\n",
    "results = np.zeros((len(lr), len(hidden),3,2))\n"
   ]
  },
  {
   "cell_type": "code",
   "execution_count": 6,
   "metadata": {},
   "outputs": [],
   "source": [
    "for i, l in enumerate(lr):\n",
    "    for j, h in enumerate(hidden):\n",
    "        results[i,j,:,:] = np.genfromtxt(f\"../results/{l}_{h}.csv\", delimiter=\",\")\n",
    "        "
   ]
  },
  {
   "cell_type": "code",
   "execution_count": 13,
   "metadata": {},
   "outputs": [],
   "source": [
    "with open(\"../results/results.pkl\", \"wb\") as f:\n",
    "    pickle.dump(results,f)"
   ]
  },
  {
   "cell_type": "code",
   "execution_count": 4,
   "metadata": {},
   "outputs": [],
   "source": [
    "results_rows = []\n",
    "\n",
    "# dims =  lr x hidden x 3 runs x (train vs val)\n",
    "for i, l in enumerate(lr):\n",
    "    for j, h in enumerate(hidden):\n",
    "        results = np.genfromtxt(f\"../results/{l}_{h}.csv\", delimiter=\",\")\n",
    "        results_rows.extend([[l, h, results[r][0], results[r][1]] for r in range(3)])\n"
   ]
  },
  {
   "cell_type": "code",
   "execution_count": 5,
   "metadata": {},
   "outputs": [
    {
     "data": {
      "text/html": [
       "<div>\n",
       "<style scoped>\n",
       "    .dataframe tbody tr th:only-of-type {\n",
       "        vertical-align: middle;\n",
       "    }\n",
       "\n",
       "    .dataframe tbody tr th {\n",
       "        vertical-align: top;\n",
       "    }\n",
       "\n",
       "    .dataframe thead th {\n",
       "        text-align: right;\n",
       "    }\n",
       "</style>\n",
       "<table border=\"1\" class=\"dataframe\">\n",
       "  <thead>\n",
       "    <tr style=\"text-align: right;\">\n",
       "      <th></th>\n",
       "      <th>lr</th>\n",
       "      <th>hidden</th>\n",
       "      <th>train_acc</th>\n",
       "      <th>val_acc</th>\n",
       "    </tr>\n",
       "  </thead>\n",
       "  <tbody>\n",
       "    <tr>\n",
       "      <th>0</th>\n",
       "      <td>0.000001</td>\n",
       "      <td>True</td>\n",
       "      <td>71.263654</td>\n",
       "      <td>70.444775</td>\n",
       "    </tr>\n",
       "    <tr>\n",
       "      <th>1</th>\n",
       "      <td>0.000001</td>\n",
       "      <td>True</td>\n",
       "      <td>71.555362</td>\n",
       "      <td>70.171958</td>\n",
       "    </tr>\n",
       "    <tr>\n",
       "      <th>2</th>\n",
       "      <td>0.000001</td>\n",
       "      <td>True</td>\n",
       "      <td>70.301639</td>\n",
       "      <td>69.506448</td>\n",
       "    </tr>\n",
       "    <tr>\n",
       "      <th>3</th>\n",
       "      <td>0.000001</td>\n",
       "      <td>False</td>\n",
       "      <td>71.325720</td>\n",
       "      <td>70.027282</td>\n",
       "    </tr>\n",
       "    <tr>\n",
       "      <th>4</th>\n",
       "      <td>0.000001</td>\n",
       "      <td>False</td>\n",
       "      <td>70.841609</td>\n",
       "      <td>70.081019</td>\n",
       "    </tr>\n",
       "  </tbody>\n",
       "</table>\n",
       "</div>"
      ],
      "text/plain": [
       "         lr  hidden  train_acc    val_acc\n",
       "0  0.000001    True  71.263654  70.444775\n",
       "1  0.000001    True  71.555362  70.171958\n",
       "2  0.000001    True  70.301639  69.506448\n",
       "3  0.000001   False  71.325720  70.027282\n",
       "4  0.000001   False  70.841609  70.081019"
      ]
     },
     "execution_count": 5,
     "metadata": {},
     "output_type": "execute_result"
    }
   ],
   "source": [
    "results_df = pd.DataFrame(data=results_rows, columns=[\"lr\", \"hidden\", \"train_acc\", \"val_acc\"])\n",
    "results_df.head()"
   ]
  },
  {
   "cell_type": "code",
   "execution_count": 6,
   "metadata": {},
   "outputs": [
    {
     "data": {
      "text/html": [
       "<div>\n",
       "<style scoped>\n",
       "    .dataframe tbody tr th:only-of-type {\n",
       "        vertical-align: middle;\n",
       "    }\n",
       "\n",
       "    .dataframe tbody tr th {\n",
       "        vertical-align: top;\n",
       "    }\n",
       "\n",
       "    .dataframe thead th {\n",
       "        text-align: right;\n",
       "    }\n",
       "</style>\n",
       "<table border=\"1\" class=\"dataframe\">\n",
       "  <thead>\n",
       "    <tr style=\"text-align: right;\">\n",
       "      <th></th>\n",
       "      <th></th>\n",
       "      <th>train_acc</th>\n",
       "      <th>val_acc</th>\n",
       "    </tr>\n",
       "    <tr>\n",
       "      <th>lr</th>\n",
       "      <th>hidden</th>\n",
       "      <th></th>\n",
       "      <th></th>\n",
       "    </tr>\n",
       "  </thead>\n",
       "  <tbody>\n",
       "    <tr>\n",
       "      <th>0.000030</th>\n",
       "      <th>False</th>\n",
       "      <td>96.012289</td>\n",
       "      <td>74.805721</td>\n",
       "    </tr>\n",
       "    <tr>\n",
       "      <th>0.000011</th>\n",
       "      <th>False</th>\n",
       "      <td>86.340409</td>\n",
       "      <td>74.564594</td>\n",
       "    </tr>\n",
       "    <tr>\n",
       "      <th>0.000021</th>\n",
       "      <th>False</th>\n",
       "      <td>93.024868</td>\n",
       "      <td>74.563216</td>\n",
       "    </tr>\n",
       "    <tr>\n",
       "      <th>0.000050</th>\n",
       "      <th>False</th>\n",
       "      <td>97.954940</td>\n",
       "      <td>74.502590</td>\n",
       "    </tr>\n",
       "    <tr>\n",
       "      <th>0.000021</th>\n",
       "      <th>True</th>\n",
       "      <td>91.787694</td>\n",
       "      <td>74.473655</td>\n",
       "    </tr>\n",
       "  </tbody>\n",
       "</table>\n",
       "</div>"
      ],
      "text/plain": [
       "                 train_acc    val_acc\n",
       "lr       hidden                      \n",
       "0.000030 False   96.012289  74.805721\n",
       "0.000011 False   86.340409  74.564594\n",
       "0.000021 False   93.024868  74.563216\n",
       "0.000050 False   97.954940  74.502590\n",
       "0.000021 True    91.787694  74.473655"
      ]
     },
     "execution_count": 6,
     "metadata": {},
     "output_type": "execute_result"
    }
   ],
   "source": [
    "mean_per_param_combination = results_df.groupby(['lr', 'hidden']).mean().sort_values(by=[\"val_acc\",\"train_acc\"],ascending=False)\n",
    "mean_per_param_combination.head()"
   ]
  },
  {
   "cell_type": "code",
   "execution_count": 7,
   "metadata": {},
   "outputs": [
    {
     "data": {
      "text/html": [
       "<div>\n",
       "<style scoped>\n",
       "    .dataframe tbody tr th:only-of-type {\n",
       "        vertical-align: middle;\n",
       "    }\n",
       "\n",
       "    .dataframe tbody tr th {\n",
       "        vertical-align: top;\n",
       "    }\n",
       "\n",
       "    .dataframe thead th {\n",
       "        text-align: right;\n",
       "    }\n",
       "</style>\n",
       "<table border=\"1\" class=\"dataframe\">\n",
       "  <thead>\n",
       "    <tr style=\"text-align: right;\">\n",
       "      <th></th>\n",
       "      <th>hidden</th>\n",
       "      <th>train_acc</th>\n",
       "      <th>val_acc</th>\n",
       "    </tr>\n",
       "    <tr>\n",
       "      <th>lr</th>\n",
       "      <th></th>\n",
       "      <th></th>\n",
       "      <th></th>\n",
       "    </tr>\n",
       "  </thead>\n",
       "  <tbody>\n",
       "    <tr>\n",
       "      <th>0.000021</th>\n",
       "      <td>0.5</td>\n",
       "      <td>92.406281</td>\n",
       "      <td>74.518436</td>\n",
       "    </tr>\n",
       "    <tr>\n",
       "      <th>0.000011</th>\n",
       "      <td>0.5</td>\n",
       "      <td>85.890951</td>\n",
       "      <td>74.468144</td>\n",
       "    </tr>\n",
       "    <tr>\n",
       "      <th>0.000030</th>\n",
       "      <td>0.5</td>\n",
       "      <td>95.272157</td>\n",
       "      <td>74.466077</td>\n",
       "    </tr>\n",
       "    <tr>\n",
       "      <th>0.000050</th>\n",
       "      <td>0.5</td>\n",
       "      <td>97.403074</td>\n",
       "      <td>74.448165</td>\n",
       "    </tr>\n",
       "    <tr>\n",
       "      <th>0.000040</th>\n",
       "      <td>0.5</td>\n",
       "      <td>96.570362</td>\n",
       "      <td>74.335869</td>\n",
       "    </tr>\n",
       "  </tbody>\n",
       "</table>\n",
       "</div>"
      ],
      "text/plain": [
       "          hidden  train_acc    val_acc\n",
       "lr                                    \n",
       "0.000021     0.5  92.406281  74.518436\n",
       "0.000011     0.5  85.890951  74.468144\n",
       "0.000030     0.5  95.272157  74.466077\n",
       "0.000050     0.5  97.403074  74.448165\n",
       "0.000040     0.5  96.570362  74.335869"
      ]
     },
     "execution_count": 7,
     "metadata": {},
     "output_type": "execute_result"
    }
   ],
   "source": [
    "mean_per_lr = results_df.groupby(['lr']).mean().sort_values(by=[\"val_acc\",\"train_acc\"], ascending=False)\n",
    "mean_per_lr.head()"
   ]
  },
  {
   "cell_type": "code",
   "execution_count": 8,
   "metadata": {},
   "outputs": [
    {
     "data": {
      "text/html": [
       "<div>\n",
       "<style scoped>\n",
       "    .dataframe tbody tr th:only-of-type {\n",
       "        vertical-align: middle;\n",
       "    }\n",
       "\n",
       "    .dataframe tbody tr th {\n",
       "        vertical-align: top;\n",
       "    }\n",
       "\n",
       "    .dataframe thead th {\n",
       "        text-align: right;\n",
       "    }\n",
       "</style>\n",
       "<table border=\"1\" class=\"dataframe\">\n",
       "  <thead>\n",
       "    <tr style=\"text-align: right;\">\n",
       "      <th></th>\n",
       "      <th>train_acc</th>\n",
       "      <th>val_acc</th>\n",
       "    </tr>\n",
       "    <tr>\n",
       "      <th>hidden</th>\n",
       "      <th></th>\n",
       "      <th></th>\n",
       "    </tr>\n",
       "  </thead>\n",
       "  <tbody>\n",
       "    <tr>\n",
       "      <th>False</th>\n",
       "      <td>90.328292</td>\n",
       "      <td>73.834325</td>\n",
       "    </tr>\n",
       "    <tr>\n",
       "      <th>True</th>\n",
       "      <td>89.258696</td>\n",
       "      <td>73.616852</td>\n",
       "    </tr>\n",
       "  </tbody>\n",
       "</table>\n",
       "</div>"
      ],
      "text/plain": [
       "        train_acc    val_acc\n",
       "hidden                      \n",
       "False   90.328292  73.834325\n",
       "True    89.258696  73.616852"
      ]
     },
     "execution_count": 8,
     "metadata": {},
     "output_type": "execute_result"
    }
   ],
   "source": [
    "mean_per_hidden = results_df.groupby(['hidden'])[['train_acc','val_acc']].mean().sort_values(by=[\"val_acc\",\"train_acc\"], ascending=False)\n",
    "mean_per_hidden.head()"
   ]
  },
  {
   "cell_type": "markdown",
   "metadata": {},
   "source": [
    "<h1> heatmap of params, compare train/val acc? </h1>"
   ]
  },
  {
   "cell_type": "code",
   "execution_count": 31,
   "metadata": {},
   "outputs": [
    {
     "data": {
      "text/plain": [
       "array([3.04e-05, 1.08e-05, 2.06e-05, 5.00e-05, 4.02e-05, 1.00e-06])"
      ]
     },
     "execution_count": 31,
     "metadata": {},
     "output_type": "execute_result"
    }
   ],
   "source": [
    "mean_per_param_combination.reset_index().lr.unique()"
   ]
  },
  {
   "cell_type": "code",
   "execution_count": 35,
   "metadata": {},
   "outputs": [
    {
     "data": {
      "image/png": "[encoded data removed]",
      "text/plain": [
       "<Figure size 432x288 with 2 Axes>"
      ]
     },
     "metadata": {},
     "output_type": "display_data"
    }
   ],
   "source": [
    "import matplotlib.pyplot as plt\n",
    "from matplotlib.ticker import FormatStrFormatter\n",
    "fig, ax = plt.subplots()\n",
    "sns.heatmap(mean_per_param_combination.reset_index()[[\"lr\", \"hidden\",\"val_acc\"]].pivot(\"lr\", \"hidden\",\"val_acc\"),cmap = \"Blues\",ax=ax)\n",
    "ax.set_ylabel(\"Learning rate\",size=14)\n",
    "ax.set_yticklabels([1.00e-06,1.08e-05,2.06e-05,3.04e-05, 4.02e-05, 5.00e-05])\n",
    "ax.set_xlabel(\"Presence of hidden layer\",size=14)\n",
    "ax.set_title(\"Validation accuracy of different parameter settings\", weight=\"bold\", size=16)\n",
    "plt.savefig(\"../plots/param_heatmap.pdf\")\n",
    "plt.show()"
   ]
  },
  {
   "cell_type": "markdown",
   "metadata": {},
   "source": [
    "<h1> train & eval best model 3 x on train_val data </h1>"
   ]
  },
  {
   "cell_type": "markdown",
   "metadata": {},
   "source": [
    "<h1> precision, recall, f1 </h1>"
   ]
  },
  {
   "cell_type": "markdown",
   "metadata": {},
   "source": []
  }
 ],
 "metadata": {
  "interpreter": {
   "hash": "089b248b42946436632c3eff5e58f4d2bcd548d575ff41fc5dfd36e1ae43e977"
  },
  "kernelspec": {
   "display_name": "Python 3.9.7 64-bit (conda)",
   "language": "python",
   "name": "python3"
  },
  "language_info": {
   "codemirror_mode": {
    "name": "ipython",
    "version": 3
   },
   "file_extension": ".py",
   "mimetype": "text/x-python",
   "name": "python",
   "nbconvert_exporter": "python",
   "pygments_lexer": "ipython3",
   "version": "3.9.7"
  },
  "orig_nbformat": 4
 },
 "nbformat": 4,
 "nbformat_minor": 2
}
