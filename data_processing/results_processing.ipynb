{
 "cells": [
  {
   "cell_type": "code",
   "execution_count": 1,
   "metadata": {},
   "outputs": [],
   "source": [
    "import pandas as pd\n",
    "import seaborn as sns\n",
    "import pickle\n",
    "import numpy as np\n",
    "\n",
    "sns.set_style(\"whitegrid\")"
   ]
  },
  {
   "cell_type": "code",
   "execution_count": null,
   "metadata": {},
   "outputs": [],
   "source": []
  },
  {
   "cell_type": "code",
   "execution_count": 2,
   "metadata": {},
   "outputs": [],
   "source": [
    "with open(\"/data/s1620444/tm/data/bert_tokenized/bert_train_data.pkl\", \"rb\") as f:\n",
    "    train_dev = pickle.load(f)\n",
    "\n",
    "with open(\"/data/s1620444/tm/data/bert_tokenized/bert_test_data.pkl\",\"rb\") as f:\n",
    "    test = pickle.load(f)"
   ]
  },
  {
   "cell_type": "code",
   "execution_count": 4,
   "metadata": {},
   "outputs": [],
   "source": [
    "lr= [1e-06, 1.0800000000000002e-05, 2.0600000000000003e-05,3.0400000000000004e-05, 4.02e-05,5e-05]\n",
    "hidden= [True, False]\n",
    "\n",
    "# dims =  lr x hidden x 3 runs x (train vs val)\n",
    "results = np.zeros((len(lr), len(hidden),3,2))\n"
   ]
  },
  {
   "cell_type": "code",
   "execution_count": 6,
   "metadata": {},
   "outputs": [],
   "source": [
    "for i, l in enumerate(lr):\n",
    "    for j, h in enumerate(hidden):\n",
    "        results[i,j,:,:] = np.genfromtxt(f\"../results/{l}_{h}.csv\", delimiter=\",\")\n",
    "        "
   ]
  },
  {
   "cell_type": "code",
   "execution_count": 13,
   "metadata": {},
   "outputs": [],
   "source": [
    "with open(\"../results/results.pkl\", \"wb\") as f:\n",
    "    pickle.dump(results,f)"
   ]
  },
  {
   "cell_type": "code",
   "execution_count": 5,
   "metadata": {},
   "outputs": [],
   "source": [
    "results_rows = []\n",
    "\n",
    "# dims =  lr x hidden x 3 runs x (train vs val)\n",
    "for i, l in enumerate(lr):\n",
    "    for j, h in enumerate(hidden):\n",
    "        results = np.genfromtxt(f\"../results/{l}_{h}.csv\", delimiter=\",\")\n",
    "        results_rows.extend([[l, h, results[r][0], results[r][1]] for r in range(3)])\n"
   ]
  },
  {
   "cell_type": "code",
   "execution_count": 6,
   "metadata": {},
   "outputs": [
    {
     "data": {
      "text/html": [
       "<div>\n",
       "<style scoped>\n",
       "    .dataframe tbody tr th:only-of-type {\n",
       "        vertical-align: middle;\n",
       "    }\n",
       "\n",
       "    .dataframe tbody tr th {\n",
       "        vertical-align: top;\n",
       "    }\n",
       "\n",
       "    .dataframe thead th {\n",
       "        text-align: right;\n",
       "    }\n",
       "</style>\n",
       "<table border=\"1\" class=\"dataframe\">\n",
       "  <thead>\n",
       "    <tr style=\"text-align: right;\">\n",
       "      <th></th>\n",
       "      <th>lr</th>\n",
       "      <th>hidden</th>\n",
       "      <th>train_acc</th>\n",
       "      <th>val_acc</th>\n",
       "    </tr>\n",
       "  </thead>\n",
       "  <tbody>\n",
       "    <tr>\n",
       "      <th>0</th>\n",
       "      <td>0.000001</td>\n",
       "      <td>True</td>\n",
       "      <td>71.263654</td>\n",
       "      <td>70.444775</td>\n",
       "    </tr>\n",
       "    <tr>\n",
       "      <th>1</th>\n",
       "      <td>0.000001</td>\n",
       "      <td>True</td>\n",
       "      <td>71.555362</td>\n",
       "      <td>70.171958</td>\n",
       "    </tr>\n",
       "    <tr>\n",
       "      <th>2</th>\n",
       "      <td>0.000001</td>\n",
       "      <td>True</td>\n",
       "      <td>70.301639</td>\n",
       "      <td>69.506448</td>\n",
       "    </tr>\n",
       "    <tr>\n",
       "      <th>3</th>\n",
       "      <td>0.000001</td>\n",
       "      <td>False</td>\n",
       "      <td>71.325720</td>\n",
       "      <td>70.027282</td>\n",
       "    </tr>\n",
       "    <tr>\n",
       "      <th>4</th>\n",
       "      <td>0.000001</td>\n",
       "      <td>False</td>\n",
       "      <td>70.841609</td>\n",
       "      <td>70.081019</td>\n",
       "    </tr>\n",
       "  </tbody>\n",
       "</table>\n",
       "</div>"
      ],
      "text/plain": [
       "         lr  hidden  train_acc    val_acc\n",
       "0  0.000001    True  71.263654  70.444775\n",
       "1  0.000001    True  71.555362  70.171958\n",
       "2  0.000001    True  70.301639  69.506448\n",
       "3  0.000001   False  71.325720  70.027282\n",
       "4  0.000001   False  70.841609  70.081019"
      ]
     },
     "execution_count": 6,
     "metadata": {},
     "output_type": "execute_result"
    }
   ],
   "source": [
    "results_df = pd.DataFrame(data=results_rows, columns=[\"lr\", \"hidden\", \"train_acc\", \"val_acc\"])\n",
    "results_df.head()"
   ]
  },
  {
   "cell_type": "code",
   "execution_count": 7,
   "metadata": {},
   "outputs": [
    {
     "data": {
      "text/html": [
       "<div>\n",
       "<style scoped>\n",
       "    .dataframe tbody tr th:only-of-type {\n",
       "        vertical-align: middle;\n",
       "    }\n",
       "\n",
       "    .dataframe tbody tr th {\n",
       "        vertical-align: top;\n",
       "    }\n",
       "\n",
       "    .dataframe thead th {\n",
       "        text-align: right;\n",
       "    }\n",
       "</style>\n",
       "<table border=\"1\" class=\"dataframe\">\n",
       "  <thead>\n",
       "    <tr style=\"text-align: right;\">\n",
       "      <th></th>\n",
       "      <th></th>\n",
       "      <th>train_acc</th>\n",
       "      <th>val_acc</th>\n",
       "    </tr>\n",
       "    <tr>\n",
       "      <th>lr</th>\n",
       "      <th>hidden</th>\n",
       "      <th></th>\n",
       "      <th></th>\n",
       "    </tr>\n",
       "  </thead>\n",
       "  <tbody>\n",
       "    <tr>\n",
       "      <th>0.000030</th>\n",
       "      <th>False</th>\n",
       "      <td>96.012289</td>\n",
       "      <td>74.805721</td>\n",
       "    </tr>\n",
       "    <tr>\n",
       "      <th>0.000011</th>\n",
       "      <th>False</th>\n",
       "      <td>86.340409</td>\n",
       "      <td>74.564594</td>\n",
       "    </tr>\n",
       "    <tr>\n",
       "      <th>0.000021</th>\n",
       "      <th>False</th>\n",
       "      <td>93.024868</td>\n",
       "      <td>74.563216</td>\n",
       "    </tr>\n",
       "    <tr>\n",
       "      <th>0.000050</th>\n",
       "      <th>False</th>\n",
       "      <td>97.954940</td>\n",
       "      <td>74.502590</td>\n",
       "    </tr>\n",
       "    <tr>\n",
       "      <th>0.000021</th>\n",
       "      <th>True</th>\n",
       "      <td>91.787694</td>\n",
       "      <td>74.473655</td>\n",
       "    </tr>\n",
       "  </tbody>\n",
       "</table>\n",
       "</div>"
      ],
      "text/plain": [
       "                 train_acc    val_acc\n",
       "lr       hidden                      \n",
       "0.000030 False   96.012289  74.805721\n",
       "0.000011 False   86.340409  74.564594\n",
       "0.000021 False   93.024868  74.563216\n",
       "0.000050 False   97.954940  74.502590\n",
       "0.000021 True    91.787694  74.473655"
      ]
     },
     "execution_count": 7,
     "metadata": {},
     "output_type": "execute_result"
    }
   ],
   "source": [
    "mean_per_param_combination = results_df.groupby(['lr', 'hidden']).mean().sort_values(by=[\"val_acc\",\"train_acc\"],ascending=False)\n",
    "mean_per_param_combination.head()"
   ]
  },
  {
   "cell_type": "code",
   "execution_count": 7,
   "metadata": {},
   "outputs": [
    {
     "data": {
      "text/html": [
       "<div>\n",
       "<style scoped>\n",
       "    .dataframe tbody tr th:only-of-type {\n",
       "        vertical-align: middle;\n",
       "    }\n",
       "\n",
       "    .dataframe tbody tr th {\n",
       "        vertical-align: top;\n",
       "    }\n",
       "\n",
       "    .dataframe thead th {\n",
       "        text-align: right;\n",
       "    }\n",
       "</style>\n",
       "<table border=\"1\" class=\"dataframe\">\n",
       "  <thead>\n",
       "    <tr style=\"text-align: right;\">\n",
       "      <th></th>\n",
       "      <th>hidden</th>\n",
       "      <th>train_acc</th>\n",
       "      <th>val_acc</th>\n",
       "    </tr>\n",
       "    <tr>\n",
       "      <th>lr</th>\n",
       "      <th></th>\n",
       "      <th></th>\n",
       "      <th></th>\n",
       "    </tr>\n",
       "  </thead>\n",
       "  <tbody>\n",
       "    <tr>\n",
       "      <th>0.000021</th>\n",
       "      <td>0.5</td>\n",
       "      <td>92.406281</td>\n",
       "      <td>74.518436</td>\n",
       "    </tr>\n",
       "    <tr>\n",
       "      <th>0.000011</th>\n",
       "      <td>0.5</td>\n",
       "      <td>85.890951</td>\n",
       "      <td>74.468144</td>\n",
       "    </tr>\n",
       "    <tr>\n",
       "      <th>0.000030</th>\n",
       "      <td>0.5</td>\n",
       "      <td>95.272157</td>\n",
       "      <td>74.466077</td>\n",
       "    </tr>\n",
       "    <tr>\n",
       "      <th>0.000050</th>\n",
       "      <td>0.5</td>\n",
       "      <td>97.403074</td>\n",
       "      <td>74.448165</td>\n",
       "    </tr>\n",
       "    <tr>\n",
       "      <th>0.000040</th>\n",
       "      <td>0.5</td>\n",
       "      <td>96.570362</td>\n",
       "      <td>74.335869</td>\n",
       "    </tr>\n",
       "  </tbody>\n",
       "</table>\n",
       "</div>"
      ],
      "text/plain": [
       "          hidden  train_acc    val_acc\n",
       "lr                                    \n",
       "0.000021     0.5  92.406281  74.518436\n",
       "0.000011     0.5  85.890951  74.468144\n",
       "0.000030     0.5  95.272157  74.466077\n",
       "0.000050     0.5  97.403074  74.448165\n",
       "0.000040     0.5  96.570362  74.335869"
      ]
     },
     "execution_count": 7,
     "metadata": {},
     "output_type": "execute_result"
    }
   ],
   "source": [
    "mean_per_lr = results_df.groupby(['lr']).mean().sort_values(by=[\"val_acc\",\"train_acc\"], ascending=False)\n",
    "mean_per_lr.head()"
   ]
  },
  {
   "cell_type": "code",
   "execution_count": 8,
   "metadata": {},
   "outputs": [
    {
     "data": {
      "text/html": [
       "<div>\n",
       "<style scoped>\n",
       "    .dataframe tbody tr th:only-of-type {\n",
       "        vertical-align: middle;\n",
       "    }\n",
       "\n",
       "    .dataframe tbody tr th {\n",
       "        vertical-align: top;\n",
       "    }\n",
       "\n",
       "    .dataframe thead th {\n",
       "        text-align: right;\n",
       "    }\n",
       "</style>\n",
       "<table border=\"1\" class=\"dataframe\">\n",
       "  <thead>\n",
       "    <tr style=\"text-align: right;\">\n",
       "      <th></th>\n",
       "      <th>train_acc</th>\n",
       "      <th>val_acc</th>\n",
       "    </tr>\n",
       "    <tr>\n",
       "      <th>hidden</th>\n",
       "      <th></th>\n",
       "      <th></th>\n",
       "    </tr>\n",
       "  </thead>\n",
       "  <tbody>\n",
       "    <tr>\n",
       "      <th>False</th>\n",
       "      <td>90.328292</td>\n",
       "      <td>73.834325</td>\n",
       "    </tr>\n",
       "    <tr>\n",
       "      <th>True</th>\n",
       "      <td>89.258696</td>\n",
       "      <td>73.616852</td>\n",
       "    </tr>\n",
       "  </tbody>\n",
       "</table>\n",
       "</div>"
      ],
      "text/plain": [
       "        train_acc    val_acc\n",
       "hidden                      \n",
       "False   90.328292  73.834325\n",
       "True    89.258696  73.616852"
      ]
     },
     "execution_count": 8,
     "metadata": {},
     "output_type": "execute_result"
    }
   ],
   "source": [
    "mean_per_hidden = results_df.groupby(['hidden'])[['train_acc','val_acc']].mean().sort_values(by=[\"val_acc\",\"train_acc\"], ascending=False)\n",
    "mean_per_hidden.head()"
   ]
  },
  {
   "cell_type": "markdown",
   "metadata": {},
   "source": [
    "<h1> heatmap of params, compare train/val acc? </h1>"
   ]
  },
  {
   "cell_type": "code",
   "execution_count": 31,
   "metadata": {},
   "outputs": [
    {
     "data": {
      "text/plain": [
       "array([3.04e-05, 1.08e-05, 2.06e-05, 5.00e-05, 4.02e-05, 1.00e-06])"
      ]
     },
     "execution_count": 31,
     "metadata": {},
     "output_type": "execute_result"
    }
   ],
   "source": [
    "mean_per_param_combination.reset_index().lr.unique()"
   ]
  },
  {
   "cell_type": "code",
   "execution_count": 9,
   "metadata": {},
   "outputs": [
    {
     "data": {
      "image/png": "[encoded data removed]",
      "text/plain": [
       "<Figure size 432x288 with 2 Axes>"
      ]
     },
     "metadata": {},
     "output_type": "display_data"
    }
   ],
   "source": [
    "import matplotlib.pyplot as plt\n",
    "from matplotlib.ticker import FormatStrFormatter\n",
    "fig, ax = plt.subplots()\n",
    "sns.heatmap(mean_per_param_combination.reset_index()[[\"lr\", \"hidden\",\"val_acc\"]].pivot(\"lr\", \"hidden\",\"val_acc\"),cmap = \"Blues\",ax=ax)\n",
    "ax.set_ylabel(\"Learning rate\",size=14)\n",
    "ax.set_yticklabels([1.00e-06,1.08e-05,2.06e-05,3.04e-05, 4.02e-05, 5.00e-05])\n",
    "ax.set_xlabel(\"Presence of hidden layer\",size=14)\n",
    "ax.set_title(\"Validation accuracy of different parameter settings\", weight=\"bold\", size=14)\n",
    "plt.tight_layout()\n",
    "plt.savefig(\"../plots/param_heatmap.pdf\")\n",
    "plt.show()"
   ]
  },
  {
   "cell_type": "markdown",
   "metadata": {},
   "source": [
    "<h1> train & eval best model 3 x on train_val data </h1>"
   ]
  },
  {
   "cell_type": "code",
   "execution_count": 21,
   "metadata": {},
   "outputs": [],
   "source": [
    "def bert_confusion_matrix(id, true_labels):\n",
    "    \"\"\" returns confusion matrix and predicted labels\"\"\"\n",
    "    reverse_map = {0: \"negative\", 1:\"neutral\",2:\"positive\"}\n",
    "\n",
    "    pred_prob = np.load(f\"../results/best_predictions_{id}.npy\")\n",
    "    pred = pred_prob.argmax(1)\n",
    "    return pd.crosstab(pd.Series([i for i in true_labels], name = \"True\"), pd.Series([reverse_map[i] for i in pred], name = \"Predicted\"), margins=True), pred\n",
    "\n"
   ]
  },
  {
   "cell_type": "code",
   "execution_count": 22,
   "metadata": {},
   "outputs": [],
   "source": [
    "true_labels = test.label.values\n",
    "\n",
    "df_confusion_0, pred_0 = bert_confusion_matrix(0, true_labels)\n",
    "df_confusion_1, pred_1 = bert_confusion_matrix(1, true_labels)\n",
    "df_confusion_2, pred_2 = bert_confusion_matrix(2, true_labels)"
   ]
  },
  {
   "cell_type": "code",
   "execution_count": 26,
   "metadata": {},
   "outputs": [
    {
     "data": {
      "text/html": [
       "<div>\n",
       "<style scoped>\n",
       "    .dataframe tbody tr th:only-of-type {\n",
       "        vertical-align: middle;\n",
       "    }\n",
       "\n",
       "    .dataframe tbody tr th {\n",
       "        vertical-align: top;\n",
       "    }\n",
       "\n",
       "    .dataframe thead th {\n",
       "        text-align: right;\n",
       "    }\n",
       "</style>\n",
       "<table border=\"1\" class=\"dataframe\">\n",
       "  <thead>\n",
       "    <tr style=\"text-align: right;\">\n",
       "      <th>Predicted</th>\n",
       "      <th>negative</th>\n",
       "      <th>neutral</th>\n",
       "      <th>positive</th>\n",
       "      <th>All</th>\n",
       "    </tr>\n",
       "    <tr>\n",
       "      <th>True</th>\n",
       "      <th></th>\n",
       "      <th></th>\n",
       "      <th></th>\n",
       "      <th></th>\n",
       "    </tr>\n",
       "  </thead>\n",
       "  <tbody>\n",
       "    <tr>\n",
       "      <th>negative</th>\n",
       "      <td>916</td>\n",
       "      <td>550</td>\n",
       "      <td>100</td>\n",
       "      <td>1566</td>\n",
       "    </tr>\n",
       "    <tr>\n",
       "      <th>neutral</th>\n",
       "      <td>627</td>\n",
       "      <td>2282</td>\n",
       "      <td>516</td>\n",
       "      <td>3425</td>\n",
       "    </tr>\n",
       "    <tr>\n",
       "      <th>positive</th>\n",
       "      <td>191</td>\n",
       "      <td>1949</td>\n",
       "      <td>2696</td>\n",
       "      <td>4836</td>\n",
       "    </tr>\n",
       "    <tr>\n",
       "      <th>All</th>\n",
       "      <td>1734</td>\n",
       "      <td>4781</td>\n",
       "      <td>3312</td>\n",
       "      <td>9827</td>\n",
       "    </tr>\n",
       "  </tbody>\n",
       "</table>\n",
       "</div>"
      ],
      "text/plain": [
       "Predicted  negative  neutral  positive   All\n",
       "True                                        \n",
       "negative        916      550       100  1566\n",
       "neutral         627     2282       516  3425\n",
       "positive        191     1949      2696  4836\n",
       "All            1734     4781      3312  9827"
      ]
     },
     "execution_count": 26,
     "metadata": {},
     "output_type": "execute_result"
    }
   ],
   "source": [
    "df_confusion_0"
   ]
  },
  {
   "cell_type": "code",
   "execution_count": 33,
   "metadata": {},
   "outputs": [],
   "source": [
    "# get precision, recall, accuracy, f1\n",
    "def precision(df, sent):\n",
    "    numerator = df.loc[sent, sent]\n",
    "    denominator = df.loc[\"All\", sent]\n",
    "    return numerator/denominator\n",
    "\n",
    "def recall(df, sent):\n",
    "    numerator = df.loc[sent, sent]\n",
    "    denominator = df.loc[\"All\", sent]\n",
    "    return numerator/denominator\n",
    "\n",
    "def f1(p,r):\n",
    "    return 2*(p*r)/(p+r)\n",
    "\n",
    "def f1pn(fp, fn):\n",
    "    return 0.5*(fp+fn)\n",
    "\n",
    "confusion_dfs = [df_confusion_0, df_confusion_1, df_confusion_2]\n",
    "precisions = np.array([[precision(d, \"negative\"), precision(d, \"neutral\"), precision(d,\"positive\")] for d in confusion_dfs])\n",
    "recalls = np.array([[recall(d, \"negative\"), recall(d, \"neutral\"), recall(d,\"positive\")] for d in confusion_dfs])\n",
    "f1s = np.array([[f1(precisions[i][j], recalls[i][j]) for j in range(3)] for i in range(3)])\n",
    "avg_f1 = np.array([f1pn(f1s[i][0], f1s[i][2]) for i in range(3)])\n"
   ]
  },
  {
   "cell_type": "code",
   "execution_count": 40,
   "metadata": {},
   "outputs": [
    {
     "name": "stdout",
     "output_type": "stream",
     "text": [
      "[[0.52825836 0.477306   0.81400966]\n",
      " [0.52328289 0.47795341 0.81884277]\n",
      " [0.53191489 0.47583418 0.81835032]]\n",
      "[[0.52825836 0.477306   0.81400966]\n",
      " [0.52328289 0.47795341 0.81884277]\n",
      " [0.53191489 0.47583418 0.81835032]]\n"
     ]
    }
   ],
   "source": [
    "df_eval = pd.DataFrame(data = np.column_stack((np.concatenate((precisions,recalls,f1s),axis=1),avg_f1)), columns=[\"p_neg\", \"p_neu\", \"p_pos\", \"r_neg\", \"r_neu\", \"r_pos\", \"f1_neg\", \"f1_neu\", \"f1_pos\", \"f1_pn\"])"
   ]
  },
  {
   "cell_type": "code",
   "execution_count": 44,
   "metadata": {},
   "outputs": [
    {
     "name": "stdout",
     "output_type": "stream",
     "text": [
      "p_neg     0.000019\n",
      "p_neu     0.000001\n",
      "p_pos     0.000007\n",
      "r_neg     0.000019\n",
      "r_neu     0.000001\n",
      "r_pos     0.000007\n",
      "f1_neg    0.000019\n",
      "f1_neu    0.000001\n",
      "f1_pos    0.000007\n",
      "f1_pn     0.000005\n",
      "dtype: float64\n"
     ]
    },
    {
     "data": {
      "text/plain": [
       "p_neg     0.527819\n",
       "p_neu     0.477031\n",
       "p_pos     0.817068\n",
       "r_neg     0.527819\n",
       "r_neu     0.477031\n",
       "r_pos     0.817068\n",
       "f1_neg    0.527819\n",
       "f1_neu    0.477031\n",
       "f1_pos    0.817068\n",
       "f1_pn     0.672443\n",
       "dtype: float64"
      ]
     },
     "execution_count": 44,
     "metadata": {},
     "output_type": "execute_result"
    }
   ],
   "source": [
    "print(df_eval.var(axis=0))\n",
    "df_eval.mean()"
   ]
  },
  {
   "cell_type": "markdown",
   "metadata": {},
   "source": [
    "<h1> baseline </h1>"
   ]
  },
  {
   "cell_type": "code",
   "execution_count": 45,
   "metadata": {},
   "outputs": [],
   "source": [
    "with open(\"../results/baseline_predictions.pkl\", \"rb\") as f:\n",
    "    baseline_predictions = pickle.load(f)"
   ]
  },
  {
   "cell_type": "code",
   "execution_count": 47,
   "metadata": {},
   "outputs": [],
   "source": [
    "from sklearn.metrics import recall_score, precision_score, f1_score\n",
    "\n",
    "labels_map = {\"negative\":0, \"neutral\":1, \"positive\":2}\n",
    "y_true = [labels_map[i] for i in true_labels]\n",
    "baseline_precisions = np.array([precision_score(y_true,pred,average=None).tolist() for pred in baseline_predictions])\n",
    "baseline_recalls = np.array([recall_score(y_true,pred,average=None).tolist() for pred in baseline_predictions])\n",
    "baseline_f1s = np.array([f1_score(y_true,pred,average=None).tolist() for pred in baseline_predictions])\n",
    "baseline_avg_f1s = np.array([0.5*(baseline_f1s[i][0] + baseline_f1s[i][2]) for i in range(3)])\n",
    "\n",
    "df_baseline_eval = pd.DataFrame(data = np.column_stack((np.concatenate((baseline_precisions,baseline_recalls,baseline_f1s),axis=1),baseline_avg_f1s)), columns=[\"p_neg\", \"p_neu\", \"p_pos\", \"r_neg\", \"r_neu\", \"r_pos\", \"f1_neg\", \"f1_neu\", \"f1_pos\", \"f1_pn\"])"
   ]
  },
  {
   "cell_type": "code",
   "execution_count": 48,
   "metadata": {},
   "outputs": [
    {
     "data": {
      "text/html": [
       "<div>\n",
       "<style scoped>\n",
       "    .dataframe tbody tr th:only-of-type {\n",
       "        vertical-align: middle;\n",
       "    }\n",
       "\n",
       "    .dataframe tbody tr th {\n",
       "        vertical-align: top;\n",
       "    }\n",
       "\n",
       "    .dataframe thead th {\n",
       "        text-align: right;\n",
       "    }\n",
       "</style>\n",
       "<table border=\"1\" class=\"dataframe\">\n",
       "  <thead>\n",
       "    <tr style=\"text-align: right;\">\n",
       "      <th></th>\n",
       "      <th>p_neg</th>\n",
       "      <th>p_neu</th>\n",
       "      <th>p_pos</th>\n",
       "      <th>r_neg</th>\n",
       "      <th>r_neu</th>\n",
       "      <th>r_pos</th>\n",
       "      <th>f1_neg</th>\n",
       "      <th>f1_neu</th>\n",
       "      <th>f1_pos</th>\n",
       "      <th>f1_pn</th>\n",
       "    </tr>\n",
       "  </thead>\n",
       "  <tbody>\n",
       "    <tr>\n",
       "      <th>0</th>\n",
       "      <td>0.475162</td>\n",
       "      <td>0.43167</td>\n",
       "      <td>0.734067</td>\n",
       "      <td>0.280971</td>\n",
       "      <td>0.732263</td>\n",
       "      <td>0.469189</td>\n",
       "      <td>0.35313</td>\n",
       "      <td>0.543151</td>\n",
       "      <td>0.572474</td>\n",
       "      <td>0.462802</td>\n",
       "    </tr>\n",
       "    <tr>\n",
       "      <th>1</th>\n",
       "      <td>0.475162</td>\n",
       "      <td>0.43167</td>\n",
       "      <td>0.734067</td>\n",
       "      <td>0.280971</td>\n",
       "      <td>0.732263</td>\n",
       "      <td>0.469189</td>\n",
       "      <td>0.35313</td>\n",
       "      <td>0.543151</td>\n",
       "      <td>0.572474</td>\n",
       "      <td>0.462802</td>\n",
       "    </tr>\n",
       "    <tr>\n",
       "      <th>2</th>\n",
       "      <td>0.475162</td>\n",
       "      <td>0.43167</td>\n",
       "      <td>0.734067</td>\n",
       "      <td>0.280971</td>\n",
       "      <td>0.732263</td>\n",
       "      <td>0.469189</td>\n",
       "      <td>0.35313</td>\n",
       "      <td>0.543151</td>\n",
       "      <td>0.572474</td>\n",
       "      <td>0.462802</td>\n",
       "    </tr>\n",
       "  </tbody>\n",
       "</table>\n",
       "</div>"
      ],
      "text/plain": [
       "      p_neg    p_neu     p_pos     r_neg     r_neu     r_pos   f1_neg  \\\n",
       "0  0.475162  0.43167  0.734067  0.280971  0.732263  0.469189  0.35313   \n",
       "1  0.475162  0.43167  0.734067  0.280971  0.732263  0.469189  0.35313   \n",
       "2  0.475162  0.43167  0.734067  0.280971  0.732263  0.469189  0.35313   \n",
       "\n",
       "     f1_neu    f1_pos     f1_pn  \n",
       "0  0.543151  0.572474  0.462802  \n",
       "1  0.543151  0.572474  0.462802  \n",
       "2  0.543151  0.572474  0.462802  "
      ]
     },
     "execution_count": 48,
     "metadata": {},
     "output_type": "execute_result"
    }
   ],
   "source": [
    "df_baseline_eval"
   ]
  },
  {
   "cell_type": "code",
   "execution_count": 55,
   "metadata": {},
   "outputs": [],
   "source": [
    "df_final_results = pd.concat([df_eval.mean(), df_baseline_eval.mean(), df_eval.var(),df_baseline_eval.var()], axis=1).rename(columns={0:\"bert_mean\", 1:\"baseline_mean\", 2:\"bert_var\", 3:\"baseline_var\"})"
   ]
  },
  {
   "cell_type": "code",
   "execution_count": 57,
   "metadata": {},
   "outputs": [
    {
     "data": {
      "text/html": [
       "<div>\n",
       "<style scoped>\n",
       "    .dataframe tbody tr th:only-of-type {\n",
       "        vertical-align: middle;\n",
       "    }\n",
       "\n",
       "    .dataframe tbody tr th {\n",
       "        vertical-align: top;\n",
       "    }\n",
       "\n",
       "    .dataframe thead th {\n",
       "        text-align: right;\n",
       "    }\n",
       "</style>\n",
       "<table border=\"1\" class=\"dataframe\">\n",
       "  <thead>\n",
       "    <tr style=\"text-align: right;\">\n",
       "      <th></th>\n",
       "      <th>bert_mean</th>\n",
       "      <th>baseline_mean</th>\n",
       "      <th>bert_var</th>\n",
       "      <th>baseline_var</th>\n",
       "      <th>diff</th>\n",
       "    </tr>\n",
       "  </thead>\n",
       "  <tbody>\n",
       "    <tr>\n",
       "      <th>p_neg</th>\n",
       "      <td>0.527819</td>\n",
       "      <td>0.475162</td>\n",
       "      <td>0.000019</td>\n",
       "      <td>4.622232e-33</td>\n",
       "      <td>0.052657</td>\n",
       "    </tr>\n",
       "    <tr>\n",
       "      <th>p_neu</th>\n",
       "      <td>0.477031</td>\n",
       "      <td>0.431670</td>\n",
       "      <td>0.000001</td>\n",
       "      <td>4.622232e-33</td>\n",
       "      <td>0.045362</td>\n",
       "    </tr>\n",
       "    <tr>\n",
       "      <th>p_pos</th>\n",
       "      <td>0.817068</td>\n",
       "      <td>0.734067</td>\n",
       "      <td>0.000007</td>\n",
       "      <td>0.000000e+00</td>\n",
       "      <td>0.083001</td>\n",
       "    </tr>\n",
       "    <tr>\n",
       "      <th>r_neg</th>\n",
       "      <td>0.527819</td>\n",
       "      <td>0.280971</td>\n",
       "      <td>0.000019</td>\n",
       "      <td>0.000000e+00</td>\n",
       "      <td>0.246848</td>\n",
       "    </tr>\n",
       "    <tr>\n",
       "      <th>r_neu</th>\n",
       "      <td>0.477031</td>\n",
       "      <td>0.732263</td>\n",
       "      <td>0.000001</td>\n",
       "      <td>0.000000e+00</td>\n",
       "      <td>-0.255232</td>\n",
       "    </tr>\n",
       "    <tr>\n",
       "      <th>r_pos</th>\n",
       "      <td>0.817068</td>\n",
       "      <td>0.469189</td>\n",
       "      <td>0.000007</td>\n",
       "      <td>0.000000e+00</td>\n",
       "      <td>0.347878</td>\n",
       "    </tr>\n",
       "    <tr>\n",
       "      <th>f1_neg</th>\n",
       "      <td>0.527819</td>\n",
       "      <td>0.353130</td>\n",
       "      <td>0.000019</td>\n",
       "      <td>0.000000e+00</td>\n",
       "      <td>0.174689</td>\n",
       "    </tr>\n",
       "    <tr>\n",
       "      <th>f1_neu</th>\n",
       "      <td>0.477031</td>\n",
       "      <td>0.543151</td>\n",
       "      <td>0.000001</td>\n",
       "      <td>0.000000e+00</td>\n",
       "      <td>-0.066120</td>\n",
       "    </tr>\n",
       "    <tr>\n",
       "      <th>f1_pos</th>\n",
       "      <td>0.817068</td>\n",
       "      <td>0.572474</td>\n",
       "      <td>0.000007</td>\n",
       "      <td>0.000000e+00</td>\n",
       "      <td>0.244594</td>\n",
       "    </tr>\n",
       "    <tr>\n",
       "      <th>f1_pn</th>\n",
       "      <td>0.672443</td>\n",
       "      <td>0.462802</td>\n",
       "      <td>0.000005</td>\n",
       "      <td>4.622232e-33</td>\n",
       "      <td>0.209641</td>\n",
       "    </tr>\n",
       "  </tbody>\n",
       "</table>\n",
       "</div>"
      ],
      "text/plain": [
       "        bert_mean  baseline_mean  bert_var  baseline_var      diff\n",
       "p_neg    0.527819       0.475162  0.000019  4.622232e-33  0.052657\n",
       "p_neu    0.477031       0.431670  0.000001  4.622232e-33  0.045362\n",
       "p_pos    0.817068       0.734067  0.000007  0.000000e+00  0.083001\n",
       "r_neg    0.527819       0.280971  0.000019  0.000000e+00  0.246848\n",
       "r_neu    0.477031       0.732263  0.000001  0.000000e+00 -0.255232\n",
       "r_pos    0.817068       0.469189  0.000007  0.000000e+00  0.347878\n",
       "f1_neg   0.527819       0.353130  0.000019  0.000000e+00  0.174689\n",
       "f1_neu   0.477031       0.543151  0.000001  0.000000e+00 -0.066120\n",
       "f1_pos   0.817068       0.572474  0.000007  0.000000e+00  0.244594\n",
       "f1_pn    0.672443       0.462802  0.000005  4.622232e-33  0.209641"
      ]
     },
     "execution_count": 57,
     "metadata": {},
     "output_type": "execute_result"
    }
   ],
   "source": [
    "df_final_results[\"diff\"] = df_final_results[\"bert_mean\"]-df_final_results[\"baseline_mean\"]\n",
    "df_final_results"
   ]
  },
  {
   "cell_type": "code",
   "execution_count": null,
   "metadata": {},
   "outputs": [],
   "source": []
  }
 ],
 "metadata": {
  "interpreter": {
   "hash": "089b248b42946436632c3eff5e58f4d2bcd548d575ff41fc5dfd36e1ae43e977"
  },
  "kernelspec": {
   "display_name": "Python 3.9.7 64-bit (conda)",
   "language": "python",
   "name": "python3"
  },
  "language_info": {
   "codemirror_mode": {
    "name": "ipython",
    "version": 3
   },
   "file_extension": ".py",
   "mimetype": "text/x-python",
   "name": "python",
   "nbconvert_exporter": "python",
   "pygments_lexer": "ipython3",
   "version": "3.9.7"
  },
  "orig_nbformat": 4
 },
 "nbformat": 4,
 "nbformat_minor": 2
}
